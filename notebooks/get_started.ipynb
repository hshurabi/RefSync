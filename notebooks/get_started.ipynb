{
 "cells": [
  {
   "cell_type": "code",
   "execution_count": null,
   "metadata": {},
   "outputs": [],
   "source": [
    "import pandas as pd\n",
    "\n",
    "# Read sample data\n",
    "df = pd.read_csv('../data/sample.csv')\n",
    "\n",
    "# Simple processing\n",
    "summary = df.describe()\n",
    "\n",
    "# Save to results\n",
    "summary.to_csv('../results/summary.csv')\n",
    "\n",
    "print(\"Summary saved to ../results/summary.csv\")"
   ]
  }
 ],
 "metadata": {
  "kernelspec": {
   "display_name": "Python 3",
   "language": "python",
   "name": "python3"
  },
  "language_info": {
   "name": "python",
   "version": "3.11"
  }
 },
 "nbformat": 4,
 "nbformat_minor": 2
}
